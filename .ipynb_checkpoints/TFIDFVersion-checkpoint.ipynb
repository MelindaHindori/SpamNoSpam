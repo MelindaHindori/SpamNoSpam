{
 "cells": [
  {
   "cell_type": "markdown",
   "metadata": {},
   "source": [
    "### 1. Import Packages"
   ]
  },
  {
   "cell_type": "code",
   "execution_count": 1,
   "metadata": {
    "collapsed": true
   },
   "outputs": [],
   "source": [
    "import nltk\n",
    "import numpy as np\n",
    "import pandas as pd\n",
    "import os, sys"
   ]
  },
  {
   "cell_type": "markdown",
   "metadata": {},
   "source": [
    "### 2. Import data and libraries "
   ]
  },
  {
   "cell_type": "code",
   "execution_count": 2,
   "metadata": {
    "collapsed": true,
    "scrolled": false
   },
   "outputs": [],
   "source": [
    "df = pd.read_csv('./emails.train.csv')\n",
    "#df_pos = df[df['spam']==1]\n",
    "\n",
    "from nltk.tokenize import RegexpTokenizer \n",
    "from nltk.corpus import stopwords\n",
    "from nltk.stem import PorterStemmer\n",
    "from nltk.stem.snowball import SnowballStemmer\n",
    "from nltk.stem import WordNetLemmatizer\n",
    "import re\n",
    "\n",
    "from sklearn.metrics import average_precision_score, accuracy_score\n",
    "from sklearn.svm import SVC\n",
    "from sklearn.neighbors import KNeighborsClassifier\n",
    "from sklearn.ensemble import RandomForestClassifier\n",
    "from sklearn.model_selection import GridSearchCV\n",
    "from nltk.stem.snowball import SnowballStemmer\n",
    "from sklearn.model_selection import train_test_split \n",
    "from sklearn.pipeline import Pipeline"
   ]
  },
  {
   "cell_type": "markdown",
   "metadata": {},
   "source": [
    "### 3. Defining"
   ]
  },
  {
   "cell_type": "code",
   "execution_count": 3,
   "metadata": {
    "collapsed": true
   },
   "outputs": [],
   "source": [
    "re_tokenizer = RegexpTokenizer(r'\\b[^\\d\\W]+\\b') # tokenize words that are not numbers\n",
    "mystopwords = set(stopwords.words('english')) #stop words remover\n",
    "extras = set(['_', 'subject'])\n",
    "mystopwords.update(extras)\n",
    "#ps = PorterStemmer() #stemming words\n",
    "#stemmer = SnowballStemmer(\"english\") #stemming words\n",
    "lemmatizer = WordNetLemmatizer() #lemmatizing words"
   ]
  },
  {
   "cell_type": "markdown",
   "metadata": {},
   "source": [
    "### 4. TFIDF"
   ]
  },
  {
   "cell_type": "code",
   "execution_count": 7,
   "metadata": {
    "scrolled": true
   },
   "outputs": [
    {
     "name": "stdout",
     "output_type": "stream",
     "text": [
      "{'company': 7, 'market': 49, 'information': 36, 'good': 29, 'make': 47, 'business': 2, 'list': 44, 'use': 90, 'management': 48, 'system': 81, 'see': 75, 'day': 14, 'look': 45, 'new': 56, 'take': 82, 'time': 87, 'request': 72, 'order': 61, 'fax': 22, 'e': 16, 'mail': 46, 'com': 5, 'message': 52, 'get': 28, 'best': 1, 'one': 59, 'research': 73, 'service': 78, 'know': 41, 'price': 67, 'ha': 31, 'risk': 74, 'work': 96, 'may': 50, 'gas': 27, 'well': 95, 'also': 0, 'u': 88, 'forward': 24, 'number': 58, 'project': 69, 'need': 55, 'email': 19, 'wa': 92, 'like': 43, 'want': 93, 'would': 97, 'please': 63, 'thank': 84, 'regard': 71, 'contact': 9, 'name': 54, 'year': 99, 'thanks': 85, 'help': 32, 'j': 38, 'http': 35, 'let': 42, 'p': 62, 'free': 26, 'group': 30, 'www': 98, 'date': 13, 'send': 76, 'program': 68, 'next': 57, 'could': 11, 'power': 65, 'think': 86, 'question': 70, 'th': 83, 'development': 15, 'university': 89, 'houston': 34, 'call': 3, 'week': 94, 'energy': 20, 'option': 60, 'communication': 6, 'presentation': 66, 'john': 39, 'sent': 77, 'corp': 10, 'interview': 37, 'model': 53, 'finance': 23, 'pm': 64, 'meeting': 51, 'conference': 8, 'edu': 18, 'cc': 4, 'ect': 17, 'forwarded': 25, 'hou': 33, 'vince': 91, 'shirley': 79, 'enron': 21, 'kaminski': 40, 'stinson': 80, 'crenshaw': 12}\n"
     ]
    }
   ],
   "source": [
    "import sklearn\n",
    "\n",
    "from sklearn.feature_extraction.text import TfidfVectorizer\n",
    "#from sklearn.gaussian_process import GaussianProcessClassifier\n",
    "\n",
    "# training data dirty \n",
    "data = pd.read_csv('./emails.train.csv')\n",
    "\n",
    "def lemmi(df):\n",
    "    # lemmatize \n",
    "    for i, line in enumerate(df['text']): # so for every line in the email data, df input variable/placeholder\n",
    "        newline = [] #create new array, to put in the new lemmatized words\n",
    "        words = line.split() # split the lines into words according to spaces, one string that consists out of multiple words\n",
    "        for word in words: # for every word in that collection\n",
    "            word = lemmatizer.lemmatize(word) #replace the word with the lemmatized version of the word\n",
    "            newline.append(word) # add this into the array\n",
    "        new = ' '.join(newline) # picks every element of the array and joins them in one string with a space in between, we want to replace the orginal line in the file. \n",
    "        df.loc[i, 'text'] = new # you replace the line at the index position (currently looking at) with the new line that is the lemmatized words\n",
    "\n",
    "        \n",
    "# This is just a test use\n",
    "lemmi(data) # use the function to the lemmatized version, data is my actual input        \n",
    "\n",
    "# Vectorizer \n",
    "tvec = TfidfVectorizer(stop_words=mystopwords, tokenizer=re_tokenizer.tokenize, max_features = 100) #min_df=.0025, max_df=.1 starts ignoring the frequent words\n",
    "X = tvec.fit_transform(data['text']) \n",
    "print(tvec.vocabulary_)\n",
    "#print(X)"
   ]
  },
  {
   "cell_type": "markdown",
   "metadata": {},
   "source": [
    "### Define new labels : using cross-validation"
   ]
  },
  {
   "cell_type": "code",
   "execution_count": 8,
   "metadata": {
    "collapsed": true
   },
   "outputs": [],
   "source": [
    "# In this cell I clean the dirty version + feature extraction etc. Cross-validation: you can pretend that you have a different training set which you can evaluate your model on\n",
    "train = pd.read_csv('./emails.train.csv')\n",
    "test  = pd.read_csv('./emails.test.csv')\n",
    "\n",
    "lemmi(train)\n",
    "lemmi(test)\n",
    "\n",
    "# Get labels\n",
    "subtrain_X, subval_X = train_test_split(train, test_size = 0.25)\n",
    "\n",
    "Y_train = subtrain_X['spam']\n",
    "Y_test  = subval_X['spam']\n",
    "\n",
    "tfidf = TfidfVectorizer(stop_words=mystopwords, tokenizer=re_tokenizer.tokenize, max_features = 100)\n",
    "\n",
    "#print(\"Extracting feature for train ...\")\n",
    "X_train = tfidf.fit_transform(subtrain_X['text'])\n",
    "\n",
    "\n",
    "#print(\"Extracting feature for test ...\")\n",
    "X_test  = tfidf.fit_transform(subval_X[ 'text'])"
   ]
  },
  {
   "cell_type": "markdown",
   "metadata": {},
   "source": [
    "### Models"
   ]
  },
  {
   "cell_type": "markdown",
   "metadata": {},
   "source": [
    "#### Model 1: SVM"
   ]
  },
  {
   "cell_type": "code",
   "execution_count": 9,
   "metadata": {},
   "outputs": [
    {
     "name": "stdout",
     "output_type": "stream",
     "text": [
      "====== Performance of: SVM =======\n",
      "Metric[Accuracy            ]  0.769384\n",
      "Metric[Average Precision   ]  0.347246\n",
      "[output] solution.SVM.csv\n"
     ]
    }
   ],
   "source": [
    "model = SVC()\n",
    "\n",
    "model.fit(X_train, Y_train) # fit is for our training data, the extracted bag of words\n",
    "\n",
    "def eval(model, X_test, Y_test, method=''):\n",
    "    print(\"====== Performance of: {method} =======\".format(method=method))\n",
    "    \n",
    "    # Predict decision labels.\n",
    "    Y_pred  = model.predict(X_test)  #we need this \n",
    "    print(\"Metric[{metric:20s}]  {score:-3f}\".format( metric=\"Accuracy\", \n",
    "                                              score=accuracy_score(Y_test, Y_pred)) )\n",
    "\n",
    "    # Predict confidence scores.\n",
    "    Y_score = model.decision_function(X_test)    \n",
    "    print(\"Metric[{metric:20s}]  {score:-3f}\".format( metric=\"Average Precision\", \n",
    "                                              score=average_precision_score(Y_test, Y_score)) )\n",
    "\n",
    "    # write to submit format\n",
    "    outf = 'solution.%s.csv'% method\n",
    "    with open( outf, 'w') as f:\n",
    "        f.write('id,spam\\n')\n",
    "        for i in range(len(Y_pred)):\n",
    "            # print test['id'][0]\n",
    "            f.write('%s,%s\\n' % (test['id'][i], Y_pred[i]) )\n",
    "    print(\"[output] \"+outf)\n",
    "    \n",
    "    \n",
    "# evaluate current model\n",
    "eval(model, X_test, Y_test, method='SVM')"
   ]
  },
  {
   "cell_type": "markdown",
   "metadata": {},
   "source": [
    "#### Model 2: KNeighborsClassifier"
   ]
  },
  {
   "cell_type": "code",
   "execution_count": 10,
   "metadata": {},
   "outputs": [
    {
     "data": {
      "text/plain": [
       "0.67892644135188862"
      ]
     },
     "execution_count": 10,
     "metadata": {},
     "output_type": "execute_result"
    }
   ],
   "source": [
    "melinda = KNeighborsClassifier(n_neighbors=8, n_jobs=1) # how many calculations it can do at the same time \n",
    "melinda.fit(X_train, Y_train) # fit is for our training data, the extracted bag of words\n",
    "\n",
    "Y_pred = melinda.predict(X_test)\n",
    "accuracy_score(Y_test, Y_pred)"
   ]
  },
  {
   "cell_type": "code",
   "execution_count": 11,
   "metadata": {},
   "outputs": [
    {
     "data": {
      "text/plain": [
       "GridSearchCV(cv=None, error_score='raise',\n",
       "       estimator=KNeighborsClassifier(algorithm='auto', leaf_size=30, metric='minkowski',\n",
       "           metric_params=None, n_jobs=1, n_neighbors=5, p=2,\n",
       "           weights='uniform'),\n",
       "       fit_params=None, iid=True, n_jobs=-1,\n",
       "       param_grid={'n_neighbors': [5, 10, 14], 'p': [1, 2]},\n",
       "       pre_dispatch='2*n_jobs', refit=True, return_train_score='warn',\n",
       "       scoring=None, verbose=0)"
      ]
     },
     "execution_count": 11,
     "metadata": {},
     "output_type": "execute_result"
    }
   ],
   "source": [
    "clf = KNeighborsClassifier()\n",
    "params = {\n",
    "    'n_neighbors': [5,10,14], \n",
    "    'p': [1, 2] # different \n",
    "}\n",
    "\n",
    "grid_search = GridSearchCV(clf,params, n_jobs=-1)\n",
    "\n",
    "grid_search.fit(X_train, Y_train)"
   ]
  },
  {
   "cell_type": "code",
   "execution_count": 12,
   "metadata": {},
   "outputs": [
    {
     "name": "stdout",
     "output_type": "stream",
     "text": [
      "{'n_neighbors': 5, 'p': 2}\n",
      "0.910447761194\n"
     ]
    }
   ],
   "source": [
    "print (grid_search.best_params_)\n",
    "print (grid_search.best_score_)"
   ]
  },
  {
   "cell_type": "markdown",
   "metadata": {},
   "source": [
    "#### Model 3: RandomForestClassifier"
   ]
  },
  {
   "cell_type": "code",
   "execution_count": 13,
   "metadata": {},
   "outputs": [
    {
     "data": {
      "text/plain": [
       "GridSearchCV(cv=None, error_score='raise',\n",
       "       estimator=RandomForestClassifier(bootstrap=True, class_weight=None, criterion='gini',\n",
       "            max_depth=None, max_features='auto', max_leaf_nodes=None,\n",
       "            min_impurity_decrease=0.0, min_impurity_split=None,\n",
       "            min_samples_leaf=1, min_samples_split=2,\n",
       "            min_weight_fraction_leaf=0.0,\n",
       "            n_estimators={'n_estimators': [10, 20, 50], 'max_depth': [1, 20, 5]},\n",
       "            n_jobs=1, oob_score=False, random_state=None, verbose=0,\n",
       "            warm_start=False),\n",
       "       fit_params=None, iid=True, n_jobs=-1,\n",
       "       param_grid={'n_estimators': [10, 20, 50], 'max_depth': [1, 20, 5]},\n",
       "       pre_dispatch='2*n_jobs', refit=True, return_train_score='warn',\n",
       "       scoring=None, verbose=0)"
      ]
     },
     "execution_count": 13,
     "metadata": {},
     "output_type": "execute_result"
    }
   ],
   "source": [
    "params = {\n",
    "    'n_estimators': [10, 20, 50], \n",
    "    'max_depth': [1, 20, 5]\n",
    "}\n",
    "clf = RandomForestClassifier(params) # initializes the randomforest classifier\n",
    "\n",
    "grid_search = GridSearchCV(clf,params, n_jobs=-1)\n",
    "\n",
    "grid_search.fit(X_train, Y_train)"
   ]
  },
  {
   "cell_type": "code",
   "execution_count": 14,
   "metadata": {},
   "outputs": [
    {
     "name": "stdout",
     "output_type": "stream",
     "text": [
      "{'max_depth': 20, 'n_estimators': 50}\n",
      "0.960530679934\n"
     ]
    }
   ],
   "source": [
    "print (grid_search.best_params_)\n",
    "print (grid_search.best_score_)"
   ]
  },
  {
   "cell_type": "code",
   "execution_count": 15,
   "metadata": {},
   "outputs": [
    {
     "data": {
      "text/plain": [
       "array([[ 0.97951711,  0.02048289],\n",
       "       [ 0.96447284,  0.03552716],\n",
       "       [ 0.92456929,  0.07543071],\n",
       "       ..., \n",
       "       [ 0.61055408,  0.38944592],\n",
       "       [ 0.95986799,  0.04013201],\n",
       "       [ 0.88393572,  0.11606428]])"
      ]
     },
     "execution_count": 15,
     "metadata": {},
     "output_type": "execute_result"
    }
   ],
   "source": [
    "#use to combine my estimators \n",
    "grid_search.predict_proba(X_test) # it gives you the probability for each class. The first email 0 or 1 no spam or spam"
   ]
  },
  {
   "cell_type": "code",
   "execution_count": 16,
   "metadata": {
    "collapsed": true
   },
   "outputs": [],
   "source": [
    "# subtrain_X, subval_X = train_test_split(train, test_size = 0.25) # size of the testing set split the original training set 0.75 and validtion set is 0.25\n",
    "\n",
    "# print(train.shape)\n",
    "# print(subtrain_X.shape) # this prints the 75 %\n",
    "# print(subval_X) #without the shape (rows, columns)"
   ]
  },
  {
   "cell_type": "code",
   "execution_count": null,
   "metadata": {
    "collapsed": true
   },
   "outputs": [],
   "source": [
    "pipeline = Pipeline([\n",
    "    ('vectorizer',  CountVectorizer()),\n",
    "    ('classifier',  MultinomialNB()) ])\n",
    "\n",
    "pipeline.fit(data['text'].values, data['class'].values\n",
    "pipeline.predict(examples) # ['spam', 'ham']"
   ]
  }
 ],
 "metadata": {
  "kernelspec": {
   "display_name": "Python 3",
   "language": "python",
   "name": "python3"
  },
  "language_info": {
   "codemirror_mode": {
    "name": "ipython",
    "version": 3
   },
   "file_extension": ".py",
   "mimetype": "text/x-python",
   "name": "python",
   "nbconvert_exporter": "python",
   "pygments_lexer": "ipython3",
   "version": "3.6.3"
  }
 },
 "nbformat": 4,
 "nbformat_minor": 2
}
